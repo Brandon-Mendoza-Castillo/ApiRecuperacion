{
 "cells": [
  {
   "cell_type": "markdown",
   "id": "99a8086e",
   "metadata": {},
   "source": [
    "# Gráficas Generadas"
   ]
  },
  {
   "cell_type": "markdown",
   "id": "260c5c68",
   "metadata": {},
   "source": [
    "## Matriz de Confusión"
   ]
  },
  {
   "cell_type": "markdown",
   "id": "e41c7546",
   "metadata": {},
   "source": [
    "![Matriz de Confusión](conf_matrix.jpg)"
   ]
  },
  {
   "cell_type": "markdown",
   "id": "fc51416a",
   "metadata": {},
   "source": [
    "## Importancia de Características"
   ]
  },
  {
   "cell_type": "markdown",
   "id": "ca4a2c83",
   "metadata": {},
   "source": [
    "![Importancia de Características](feature_importance.jpg)"
   ]
  }
 ],
 "metadata": {},
 "nbformat": 4,
 "nbformat_minor": 5
}
