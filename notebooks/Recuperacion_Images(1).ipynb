{
 "cells": [
  {
   "cell_type": "markdown",
   "id": "b4044c2d",
   "metadata": {},
   "source": [
    "### Accuracy: 0.9986189623491685\n",
    "### F1 Score: 0.572463768115942\n"
   ]
  },
  {
   "cell_type": "markdown",
   "id": "b4bbb4c0",
   "metadata": {},
   "source": [
    "![Plot](extracted_image_11.png)"
   ]
  },
  {
   "cell_type": "markdown",
   "id": "79e5a94a",
   "metadata": {},
   "source": [
    "![Plot](extracted_image_13.png)"
   ]
  }
 ],
 "metadata": {},
 "nbformat": 4,
 "nbformat_minor": 5
}
