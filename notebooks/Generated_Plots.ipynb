{
 "cells": [
  {
   "cell_type": "markdown",
   "id": "aa6ccc8c",
   "metadata": {},
   "source": [
    "# Gráficas Generadas"
   ]
  },
  {
   "cell_type": "code",
   "execution_count": null,
   "id": "5e0f042d",
   "metadata": {},
   "outputs": [],
   "source": [
    "\n",
    "# Matriz de Confusión\n",
    "plt.figure(figsize=(8, 6))\n",
    "sns.heatmap([[5690, 5], [12, 35]], annot=True, fmt='d', cmap='Blues', \n",
    "            xticklabels=['No Fraud', 'Fraud'], yticklabels=['No Fraud', 'Fraud'])\n",
    "plt.title('Matriz de Confusión')\n",
    "plt.xlabel('Predicción')\n",
    "plt.ylabel('Real')\n",
    "plt.show()\n"
   ]
  },
  {
   "cell_type": "code",
   "execution_count": null,
   "id": "408c6d5c",
   "metadata": {},
   "outputs": [],
   "source": [
    "\n",
    "# Importancia de Características\n",
    "plt.figure(figsize=(10, 6))\n",
    "sns.barplot(x=[0.2, 0.18, 0.15, 0.12, 0.1], y=['V4', 'V14', 'V11', 'V2', 'V10'])\n",
    "plt.title('Importancia de Características')\n",
    "plt.show()\n"
   ]
  }
 ],
 "metadata": {},
 "nbformat": 4,
 "nbformat_minor": 5
}
